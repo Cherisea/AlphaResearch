{
 "cells": [
  {
   "cell_type": "code",
   "execution_count": null,
   "metadata": {},
   "outputs": [],
   "source": [
    "import yfinance as yf\n",
    "import matplotlib.pyplot as plt\n",
    "\n",
    "# Set constant variables\n",
    "TICKERS = ['AAPL']  # You can expand this list\n",
    "START_DATE = '2022-01-01'\n",
    "END_DATE = '2022-06-01'\n",
    "OUTPUT_FILE = 'df.csv'"
   ]
  },
  {
   "cell_type": "code",
   "execution_count": 14,
   "metadata": {},
   "outputs": [],
   "source": [
    "import numpy as np\n",
    "import pandas as pd\n",
    "\n",
    "def compute_features(data, shares) -> pd.DataFrame:\n",
    "    \"\"\" \n",
    "        Calculate addtional features from a raw dataframe fetched from yf\n",
    "\n",
    "        data: yf dataframe consisting of five columns ['Open', 'High', 'Close', 'Low', 'Volume']\n",
    "        shares: number of outstanding shares \n",
    "    \"\"\"\n",
    "    # Compute additional features\n",
    "    data['Amount'] = data['Close'] * data['Volume']\n",
    "    data['Relative Volume(20d)'] = data['Volume'] / data['Volume'].rolling(20).mean()\n",
    "\n",
    "    if not np.isnan(shares):\n",
    "        data['Turnover'] = data['Volume'] / shares\n",
    "    else:\n",
    "        data['Turnover'] = np.nan\n",
    "\n",
    "     # Compute daily price changes\n",
    "    data['Open Change'] = data['Open'].pct_change()\n",
    "    data['High Change'] = data['High'].pct_change()\n",
    "    data['Close Change'] = data['Close'].pct_change()\n",
    "    data['Low Change'] = data['Low'].pct_change()\n",
    "    \n",
    "    # Create price prediction target\n",
    "    data['Today Return'] = data['Close Change']\n",
    "    data['Tomorrow Return'] = data['Today Return'].shift(-1)\n",
    "\n",
    "    return data"
   ]
  },
  {
   "cell_type": "code",
   "execution_count": 19,
   "metadata": {},
   "outputs": [
    {
     "name": "stderr",
     "output_type": "stream",
     "text": [
      "[*********************100%***********************]  1 of 1 completed\n",
      "Processing Tickers: 100%|██████████| 1/1 [00:00<00:00,  3.26it/s]"
     ]
    },
    {
     "name": "stdout",
     "output_type": "stream",
     "text": [
      "<class 'pandas.core.frame.DataFrame'>\n",
      "RangeIndex: 103 entries, 0 to 102\n",
      "Data columns (total 16 columns):\n",
      " #   Column                    Non-Null Count  Dtype         \n",
      "---  ------                    --------------  -----         \n",
      " 0   (Date, )                  103 non-null    datetime64[ns]\n",
      " 1   (Close, AAPL)             103 non-null    float64       \n",
      " 2   (High, AAPL)              103 non-null    float64       \n",
      " 3   (Low, AAPL)               103 non-null    float64       \n",
      " 4   (Open, AAPL)              103 non-null    float64       \n",
      " 5   (Volume, AAPL)            103 non-null    int64         \n",
      " 6   (Amount, )                103 non-null    float64       \n",
      " 7   (Relative Volume(20d), )  84 non-null     float64       \n",
      " 8   (Turnover, )              103 non-null    float64       \n",
      " 9   (Open Change, )           102 non-null    float64       \n",
      " 10  (High Change, )           102 non-null    float64       \n",
      " 11  (Close Change, )          102 non-null    float64       \n",
      " 12  (Low Change, )            102 non-null    float64       \n",
      " 13  (Today Return, )          102 non-null    float64       \n",
      " 14  (Tomorrow Return, )       102 non-null    float64       \n",
      " 15  (Ticker, )                103 non-null    object        \n",
      "dtypes: datetime64[ns](1), float64(13), int64(1), object(1)\n",
      "memory usage: 13.0+ KB\n",
      "None\n"
     ]
    },
    {
     "name": "stderr",
     "output_type": "stream",
     "text": [
      "\n"
     ]
    }
   ],
   "source": [
    "from tqdm import tqdm\n",
    "\n",
    "all_data = []\n",
    "for ticker in tqdm(TICKERS, desc=\"Processing Tickers\"):\n",
    "    raw = yf.download(ticker, start=START_DATE, end=END_DATE)\n",
    "    if raw.empty:\n",
    "        continue\n",
    "\n",
    "    # Create a deepy copy of raw data\n",
    "    data = raw.copy()\n",
    "\n",
    "    # Fetch shares outstanding for computing turnover\n",
    "    ticker_info = yf.Ticker(ticker).info\n",
    "    shares = ticker_info.get('sharesOutstanding', np.nan)\n",
    "\n",
    "    df = compute_features(data, shares)\n",
    "    df['Ticker'] = ticker\n",
    "    df.reset_index(inplace=True)\n",
    "    all_data.append(df)\n"
   ]
  },
  {
   "cell_type": "code",
   "execution_count": 9,
   "metadata": {},
   "outputs": [
    {
     "data": {
      "text/plain": [
       "14935799808"
      ]
     },
     "execution_count": 9,
     "metadata": {},
     "output_type": "execute_result"
    }
   ],
   "source": [
    "yf.Ticker('AAPL').info['sharesOutstanding']"
   ]
  },
  {
   "cell_type": "code",
   "execution_count": 34,
   "metadata": {},
   "outputs": [
    {
     "data": {
      "text/html": [
       "<div>\n",
       "<style scoped>\n",
       "    .dataframe tbody tr th:only-of-type {\n",
       "        vertical-align: middle;\n",
       "    }\n",
       "\n",
       "    .dataframe tbody tr th {\n",
       "        vertical-align: top;\n",
       "    }\n",
       "\n",
       "    .dataframe thead th {\n",
       "        text-align: right;\n",
       "    }\n",
       "</style>\n",
       "<table border=\"1\" class=\"dataframe\">\n",
       "  <thead>\n",
       "    <tr style=\"text-align: right;\">\n",
       "      <th></th>\n",
       "      <th>x</th>\n",
       "      <th>y</th>\n",
       "      <th>k</th>\n",
       "      <th>tid</th>\n",
       "      <th>lon</th>\n",
       "      <th>lat</th>\n",
       "    </tr>\n",
       "  </thead>\n",
       "  <tbody>\n",
       "    <tr>\n",
       "      <th>0</th>\n",
       "      <td>-13617805.70</td>\n",
       "      <td>4516997.306</td>\n",
       "      <td>0</td>\n",
       "      <td>1</td>\n",
       "      <td>-122.33083</td>\n",
       "      <td>37.55675</td>\n",
       "    </tr>\n",
       "    <tr>\n",
       "      <th>1</th>\n",
       "      <td>-13617679.91</td>\n",
       "      <td>4517273.941</td>\n",
       "      <td>1</td>\n",
       "      <td>1</td>\n",
       "      <td>-122.32970</td>\n",
       "      <td>37.55872</td>\n",
       "    </tr>\n",
       "    <tr>\n",
       "      <th>2</th>\n",
       "      <td>-13617691.04</td>\n",
       "      <td>4517365.218</td>\n",
       "      <td>2</td>\n",
       "      <td>1</td>\n",
       "      <td>-122.32980</td>\n",
       "      <td>37.55937</td>\n",
       "    </tr>\n",
       "    <tr>\n",
       "      <th>3</th>\n",
       "      <td>-13617733.35</td>\n",
       "      <td>4517401.729</td>\n",
       "      <td>3</td>\n",
       "      <td>1</td>\n",
       "      <td>-122.33018</td>\n",
       "      <td>37.55963</td>\n",
       "    </tr>\n",
       "    <tr>\n",
       "      <th>4</th>\n",
       "      <td>-13617882.51</td>\n",
       "      <td>4517400.325</td>\n",
       "      <td>4</td>\n",
       "      <td>1</td>\n",
       "      <td>-122.33152</td>\n",
       "      <td>37.55962</td>\n",
       "    </tr>\n",
       "  </tbody>\n",
       "</table>\n",
       "</div>"
      ],
      "text/plain": [
       "             x            y  k  tid        lon       lat\n",
       "0 -13617805.70  4516997.306  0    1 -122.33083  37.55675\n",
       "1 -13617679.91  4517273.941  1    1 -122.32970  37.55872\n",
       "2 -13617691.04  4517365.218  2    1 -122.32980  37.55937\n",
       "3 -13617733.35  4517401.729  3    1 -122.33018  37.55963\n",
       "4 -13617882.51  4517400.325  4    1 -122.33152  37.55962"
      ]
     },
     "execution_count": 34,
     "metadata": {},
     "output_type": "execute_result"
    }
   ],
   "source": [
    "import os\n",
    "import tqdm\n",
    "import pandas as pd\n",
    "from pyproj import Transformer\n",
    "\n",
    "dataframes = []\n",
    "\n",
    "# 3. Loop through the extracted .dat files\n",
    "datadir = \"/Users/joeycullmann/Downloads/files/file-000001.dat\"\n",
    "df = pd.read_csv(datadir, sep='\\s+')\n",
    "\n",
    "transformer = Transformer.from_crs(\"EPSG:3857\", \"EPSG:4326\", always_xy=True)\n",
    "df['lon'], df['lat'] = transformer.transform(df['x'].values, df['y'].values)\n",
    "\n",
    "df.head()"
   ]
  },
  {
   "cell_type": "code",
   "execution_count": 36,
   "metadata": {},
   "outputs": [
    {
     "name": "stderr",
     "output_type": "stream",
     "text": [
      "100%|██████████| 20200/20200 [00:14<00:00, 1434.35it/s]\n"
     ]
    }
   ],
   "source": [
    "from tqdm import tqdm\n",
    "import os\n",
    "import pandas as pd\n",
    "from pyproj import Transformer\n",
    "\n",
    "basedir = \"/Users/joeycullmann/Downloads/files/\"\n",
    "trajectory_rows = []\n",
    "\n",
    "for file in tqdm(os.listdir(basedir)):\n",
    "    if file.endswith(\".dat\"):\n",
    "        path = os.path.join(basedir, file)\n",
    "        try:\n",
    "            df = pd.read_csv(path, sep='\\s+')\n",
    "            transformer = Transformer.from_crs(\"EPSG:3857\", \"EPSG:4326\", always_xy=True)\n",
    "            df['lon'], df['lat'] = transformer.transform(df['x'].values, df['y'].values)\n",
    "\n",
    "            tid = df['tid'][0]\n",
    "            coords = list(zip(df['lon'], df['lat']))\n",
    "            trajectory_rows.append({'trip_id': tid, 'geometry': coords})\n",
    "        except Exception as e:\n",
    "            print(f\"Error reading {file}: {e}\")\n",
    "\n",
    "# Step 3: Create a DataFrame\n",
    "traj_df = pd.DataFrame(trajectory_rows)\n",
    "traj_df.to_csv(\"sf_trajs.csv\", index=False)"
   ]
  },
  {
   "cell_type": "code",
   "execution_count": null,
   "metadata": {},
   "outputs": [
    {
     "data": {
      "text/plain": [
       "0"
      ]
     },
     "execution_count": 29,
     "metadata": {},
     "output_type": "execute_result"
    }
   ],
   "source": []
  },
  {
   "cell_type": "code",
   "execution_count": null,
   "metadata": {},
   "outputs": [],
   "source": []
  },
  {
   "cell_type": "code",
   "execution_count": null,
   "metadata": {},
   "outputs": [],
   "source": []
  },
  {
   "cell_type": "code",
   "execution_count": null,
   "metadata": {},
   "outputs": [],
   "source": []
  },
  {
   "cell_type": "code",
   "execution_count": null,
   "metadata": {},
   "outputs": [],
   "source": []
  },
  {
   "cell_type": "code",
   "execution_count": null,
   "metadata": {},
   "outputs": [],
   "source": []
  },
  {
   "cell_type": "code",
   "execution_count": null,
   "metadata": {},
   "outputs": [],
   "source": []
  },
  {
   "cell_type": "code",
   "execution_count": null,
   "metadata": {},
   "outputs": [],
   "source": []
  },
  {
   "cell_type": "code",
   "execution_count": null,
   "metadata": {},
   "outputs": [],
   "source": []
  },
  {
   "cell_type": "code",
   "execution_count": null,
   "metadata": {},
   "outputs": [],
   "source": []
  },
  {
   "cell_type": "code",
   "execution_count": null,
   "metadata": {},
   "outputs": [],
   "source": []
  },
  {
   "cell_type": "code",
   "execution_count": null,
   "metadata": {},
   "outputs": [],
   "source": []
  },
  {
   "cell_type": "code",
   "execution_count": null,
   "metadata": {},
   "outputs": [],
   "source": []
  },
  {
   "cell_type": "code",
   "execution_count": null,
   "metadata": {},
   "outputs": [],
   "source": []
  },
  {
   "cell_type": "code",
   "execution_count": null,
   "metadata": {},
   "outputs": [],
   "source": []
  },
  {
   "cell_type": "code",
   "execution_count": null,
   "metadata": {},
   "outputs": [],
   "source": []
  },
  {
   "cell_type": "code",
   "execution_count": null,
   "metadata": {},
   "outputs": [],
   "source": []
  },
  {
   "cell_type": "code",
   "execution_count": null,
   "metadata": {},
   "outputs": [],
   "source": []
  },
  {
   "cell_type": "code",
   "execution_count": null,
   "metadata": {},
   "outputs": [],
   "source": []
  },
  {
   "cell_type": "code",
   "execution_count": null,
   "metadata": {},
   "outputs": [],
   "source": []
  },
  {
   "cell_type": "code",
   "execution_count": null,
   "metadata": {},
   "outputs": [],
   "source": []
  },
  {
   "cell_type": "code",
   "execution_count": null,
   "metadata": {},
   "outputs": [],
   "source": []
  }
 ],
 "metadata": {
  "kernelspec": {
   "display_name": "AlphaResearch-cKLpAYjc",
   "language": "python",
   "name": "python3"
  },
  "language_info": {
   "codemirror_mode": {
    "name": "ipython",
    "version": 3
   },
   "file_extension": ".py",
   "mimetype": "text/x-python",
   "name": "python",
   "nbconvert_exporter": "python",
   "pygments_lexer": "ipython3",
   "version": "3.11.11"
  }
 },
 "nbformat": 4,
 "nbformat_minor": 2
}
